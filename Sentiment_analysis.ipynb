{
 "cells": [
  {
   "cell_type": "code",
   "execution_count": 1,
   "id": "57714d2a-96d2-40d6-bf41-dcca2f612a83",
   "metadata": {},
   "outputs": [],
   "source": [
    "import numpy as np"
   ]
  },
  {
   "cell_type": "code",
   "execution_count": 40,
   "id": "c225daca-dbbb-45f1-bc19-79abfcd5eede",
   "metadata": {},
   "outputs": [
    {
     "name": "stdout",
     "output_type": "stream",
     "text": [
      "Input: [0 0], Predicted: 0\n",
      "Input: [0 1], Predicted: 0\n",
      "Input: [1 0], Predicted: 0\n",
      "Input: [1 1], Predicted: 1\n"
     ]
    }
   ],
   "source": [
    "# Build the Perceptron Model\n",
    "class Perceptron:\n",
    "    \n",
    "    def __init__(self, num_inputs, learning_rate=0.01,epochs=1000):\n",
    "        # Initialize the weight and learning rate\n",
    "        self.weights = np.zeros(num_inputs + 1)\n",
    "        self.learning_rate = learning_rate\n",
    "        self.epochs=epochs\n",
    "      \n",
    "    def activation(self, x):\n",
    "        if x>=0:\n",
    "            return 1\n",
    "        else:\n",
    "            return 0\n",
    "               \n",
    "     \n",
    "        \n",
    "    # Define the Prediction\n",
    "    def predict(self, x):\n",
    "        x = np.insert(x,0,1)\n",
    "        weighted_sum = np.dot(self.weights,x)\n",
    "        return self.activation(weighted_sum)\n",
    "    \n",
    "    # Fit the model\n",
    "    def fit(self, X, y):\n",
    "        X = np.array(X)\n",
    "        y= np.array(y)\n",
    "        for _ in range(self.epochs):\n",
    "            for xi, target in zip(X,y):\n",
    "                xi= np.insert(xi,0,1)\n",
    "                prediction = self.activation(np.dot(self.weights,xi))\n",
    "                update = self.learning_rate *(target - prediction)\n",
    "                self.weights += update * xi\n",
    "\n",
    "if __name__ == \"__main__\":\n",
    "    X= np.array([[0,0],[0,1],[1,0],[1,1]])\n",
    "    y = np.array([0,0,0,1])\n",
    "\n",
    "    perceptron = Perceptron(num_inputs = 2 , learning_rate=0.1, epochs= 10)\n",
    "    perceptron.fit(X,y)\n",
    "\n",
    "\n",
    "    for sample in X:\n",
    "        print(f\"Input: {sample}, Predicted: {perceptron.predict(sample)}\")"
   ]
  },
  {
   "cell_type": "code",
   "execution_count": null,
   "id": "0041f070-a7ed-4ca1-997f-f154d3522efd",
   "metadata": {},
   "outputs": [],
   "source": []
  },
  {
   "cell_type": "code",
   "execution_count": null,
   "id": "588d80b4-7d62-40a1-92dc-d9cd8ba81301",
   "metadata": {},
   "outputs": [],
   "source": []
  },
  {
   "cell_type": "code",
   "execution_count": null,
   "id": "987c0a35-296b-46a2-accb-668e99190dfb",
   "metadata": {},
   "outputs": [],
   "source": []
  },
  {
   "cell_type": "code",
   "execution_count": null,
   "id": "9c6cb026-7b96-4be4-96e0-cf13782dbbd1",
   "metadata": {},
   "outputs": [],
   "source": []
  },
  {
   "cell_type": "code",
   "execution_count": null,
   "id": "9f820fe2-c59f-4688-bad0-c1821e46fcea",
   "metadata": {},
   "outputs": [],
   "source": []
  },
  {
   "cell_type": "code",
   "execution_count": null,
   "id": "a1a20592-9bac-4813-ac89-62915502f74f",
   "metadata": {},
   "outputs": [],
   "source": []
  }
 ],
 "metadata": {
  "kernelspec": {
   "display_name": "Python 3 (ipykernel)",
   "language": "python",
   "name": "python3"
  },
  "language_info": {
   "codemirror_mode": {
    "name": "ipython",
    "version": 3
   },
   "file_extension": ".py",
   "mimetype": "text/x-python",
   "name": "python",
   "nbconvert_exporter": "python",
   "pygments_lexer": "ipython3",
   "version": "3.12.7"
  }
 },
 "nbformat": 4,
 "nbformat_minor": 5
}
